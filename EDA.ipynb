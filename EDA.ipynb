{
  "cells": [
    {
      "cell_type": "markdown",
      "metadata": {
        "id": "kYxw8zu-0ey0"
      },
      "source": [
        "## Домашнее задание 3 (10 баллов)\n",
        "\n",
        "## НИУ ВШЭ, 2023-24 учебный год"
      ]
    },
    {
      "cell_type": "markdown",
      "metadata": {
        "id": "-zj11-OZ0ey1"
      },
      "source": [
        "## О задании"
      ]
    },
    {
      "cell_type": "markdown",
      "metadata": {
        "id": "mqsjg-Fw0ey1"
      },
      "source": [
        "В этом домашнем задании вы получите опыт подготовки данных и EDA (Exploratory Data Analysis), приблизившись к реальной работе с данными с помощью уже знакомых вам инструментов: numpy, pandas, matplotlib и seaborn, а также познакомитесь с plotly.\n",
        "\n",
        "EDA - важный этап работы с данными. Именно в процессе EDA вы можете выяснить особенности датасета, найти зависимости в данных, протестировать гипотезы о взаимосвязях признаков и целевой переменной. В реальности вы сами будете определять, что и как проверять в рамках EDA, однако в данной работе гипотезы будут выдвинуты за вас автором задания. Также и типы графиков, которые вы будете использовать уже предопределены за вас. Выполняя задания по визуализациям, обращайте внимание на референсные картинки, которые были оставлены автором. Они показывают, какой примерно результат от вас ожидается.\n",
        "\n",
        "Это задание будет включать в себя построение некоторого количества графиков, потому вот основные правила, в соответствии с которыми графики должны быть оформлены:\n",
        "1. Любой график всегда имеет название.\n",
        "2. Оси у графика подписаны (исключение - график делит название оси с соседним).\n",
        "3. Подписи делаются на одном языке (либо английский, либо русский), но не на их смеси.\n",
        "4. Если вы выводите несколько графиков, то они размещаются в рамках одного объекта matplotlib.pyplot.figure. Вы не выводите графики последовательно, а смотрите, как их разместить сразу все за раз.\n",
        "5. Отдельные графики (если графиков на картинке больше 1) также имеют свои названия.\n",
        "6. Если на графике есть несколько различных объектов, то для их различения используется легенда. Помещайте легенду в место, где она в наименьшей мере мешает восприятию самого графика.\n",
        "7. Если есть легенда, то она должна иметь навание, а также ее содержание должно быть адекватными (пожалейте проверяющих, они не хотят разбирать, а к чему относится зеленая линия, которая на легенде помечена меткой \"0\").\n",
        "8. Используйте цветовые гаммы, чтобы объекты на графиках отличались цветом.\n",
        "9. Текст на визуализации должен быть читаем. Если вы вывели названия категорий в качестве подписей на оси Х, а эти названия наезжают друг на друга, то вам нужно что-то с этим сделать. Нечитаемый или плохо читаемый (очень маленький, невероятно огромный) текст ведет к снижению баллов.\n",
        "\n",
        "*Тут правило про плагиат, которое вам итак известно - обнуляются все работы, которые подозреваются в некорректных заимствованиях!* Помните, что просто скопировать код из интернета и указать источник - это не ваша самостоятельная работа, а автора кода. Измените хоть что-нибудь в коде."
      ]
    },
    {
      "cell_type": "markdown",
      "metadata": {
        "id": "qObqs2C40ey2"
      },
      "source": [
        "## О данных"
      ]
    },
    {
      "cell_type": "markdown",
      "metadata": {
        "id": "PM0q8xZl0ey2"
      },
      "source": [
        "Будем работать с [датасетом физической активности](https://www.kaggle.com/datasets/uciml/human-activity-recognition-with-smartphones).\n",
        "\n",
        "В этом датасете собраны данные 30 человек, выполняющих различные действия со смартфоном на поясе. Данные записывались с помощью датчиков (акселерометра и гироскопа) в этом смартфоне. Были зафиксированы: \"3-осевое линейное ускорение\" (_tAcc-XYZ_) и \"3-осевая угловая скорость\" (_tGyro-XYZ_).\n",
        "\n",
        "1. Все сигналы отсортированы по времени, пропущены через фильтр шума.\n",
        "2. Все наблюдения были разделены на окна по 128 сигналов в каждом, причем окна пересекаются на 50% (грубо говоря, с 1 по 128 сигнал в 1 окно, с 64 до 192 сигнала - во 2 окно и так далее).\n",
        "3. Линейное ускорение было разделено на две составляющие (с помощью низкочастотного фильтра): ускорение самого тела, а также гравитационная составляющая. Будем называть их ускорением тела и гравитационным ускорением.\n",
        "4. К получившимся окнам применяли различные функции для получения следующих показателей:\n",
        "    - max\n",
        "    - min\n",
        "    - mad (median)\n",
        "    - mean\n",
        "    - std\n",
        "    - skewness (коэффициент асимметричности распределения признака в окне)\n",
        "    - etc. (подробнее, на сколько это возможно, указано на [страничке датасета](https://archive.ics.uci.edu/dataset/240/human+activity+recognition+using+smartphones))\n",
        "5. Величина (magnitude) сигнала также определялась через евклидову норму всех значений из вектора для одного окна.\n",
        "6. К окнам было применено преобразование Фурье, чтобы получить частоты. Из частот были извелченыте же показатели, плюс новые:\n",
        "    - bandsEnergy (энергия частотного интервала)\n",
        "7. Были посчитаны углы между векторами соответствующих окон.\n",
        "8. Для ускорений были посчитаны производные - рывки, к которым применялись те же функции.\n",
        "\n",
        "Итог: в датасете каждый признак - это какая-то операция над вектором из 128 чисел, которые соответствуют замерам определенного человека занятого какой-то активностью на протяжении 2.56 секунд.\n",
        "\n",
        "Как читать названия признаков? Примеры:\n",
        "- `tBodyAccMag-mean()` - это вектор ускорений тела (без гравитационной составляющей этого ускорения), из которого взяли евклидову норму, а затем усреднили, чтобы получить скаляр\n",
        "- `fBodyAcc-bandsEnergy()-1,8.2` - это вектор ускорения тела, к которому применили преобразование Фурье, преобразовав его в вектор частот, а затем посчитали на этом векторе энергию данного частотного интервала в определенном диапазоне частот (в данном случае 1 - 8.2)\n",
        "- `angle(X,gravityMean)` - это угол между осью Х и вектором усредненных значений гравитационного ускорения из соответствующего окна\n",
        "\n",
        "Вероятно, сначала покажется сложным, но мы разберемся с некоторыми признаками в отдельности и вы сможете понять их смысл, уже исходя из фактических соотношений."
      ]
    },
    {
      "cell_type": "markdown",
      "metadata": {
        "id": "gb0LC5KW0ey2"
      },
      "source": [
        "## Предобработка данных"
      ]
    },
    {
      "cell_type": "code",
      "execution_count": null,
      "metadata": {
        "id": "6XL4pDAN0ey3"
      },
      "outputs": [],
      "source": [
        "# Импортируем необходимые библиотеки\n",
        "import pandas as pd\n",
        "import numpy as np\n",
        "import matplotlib.pyplot as plt\n",
        "import seaborn as sns\n",
        "\n",
        "import warnings\n",
        "warnings.filterwarnings(\"ignore\")"
      ]
    },
    {
      "cell_type": "code",
      "source": [
        "# Загрузил архив на гитхаб, чтобы оттуда быстро импортировать файлы\n",
        "!wget https://github.com/PiginIvan/Archives/raw/main/archive.zip\n",
        "!unzip /content/archive.zip"
      ],
      "metadata": {
        "id": "FEbUNFy1sRMG"
      },
      "execution_count": null,
      "outputs": []
    },
    {
      "cell_type": "code",
      "execution_count": null,
      "metadata": {
        "id": "5rPuY0kC0ey3"
      },
      "outputs": [],
      "source": [
        "# Читаем данные из таблиц\n",
        "train = pd.read_csv('train.csv')\n",
        "test = pd.read_csv(\"test.csv\")"
      ]
    },
    {
      "cell_type": "code",
      "execution_count": null,
      "metadata": {
        "id": "2hbqvqMA0ey3"
      },
      "outputs": [],
      "source": [
        "# Размер данных train\n",
        "train.shape"
      ]
    },
    {
      "cell_type": "markdown",
      "metadata": {
        "id": "Xpg-AJRd0ey4"
      },
      "source": [
        "В датасете 563 признака, включая целевую переменную. Столько признаков нам не нужно. Мы за вас сделали подвыборку признаков для удобства работы с ними."
      ]
    },
    {
      "cell_type": "code",
      "execution_count": null,
      "metadata": {
        "id": "PeQv9ceu0ey4"
      },
      "outputs": [],
      "source": [
        "cols_subset = [\n",
        "    'tBodyAccMag-mean()',  # усредненная величина ускорения тела\n",
        "    'tBodyGyroJerk-mad()-X',  # медианная величина рывка тела по оси Х\n",
        "    'tGravityAcc-min()-X',  # минимум гравитационной составляющей ускорения по оси Х\n",
        "    'tBodyAcc-max()-X',  # максимальная величина ускорения тела по оси Х\n",
        "    'fBodyAcc-bandsEnergy()-1,8.2',  # энергия ускорения тела в интервале частоты\n",
        "    'angle(X,gravityMean)',  # угол между осью Х и усредненной гравитационной составляющей ускорения\n",
        "    'angle(Y,gravityMean)',  # угол между осью Y и усредненной гравитационной составляющей ускорения\n",
        "    'angle(Z,gravityMean)',  # угол между осью Z и усредненной гравитационной составляющей ускорения,\n",
        "    'fBodyAcc-skewness()-X',  # асимметричность частоты ускорения тела по оси Х\n",
        "    'subject',  # номер испытуемого\n",
        "    'Activity',  # название вида деятельности (целевая переменная)\n",
        "]"
      ]
    },
    {
      "cell_type": "code",
      "execution_count": null,
      "metadata": {
        "id": "RgGTLUSA0ey4"
      },
      "outputs": [],
      "source": [
        "# Предвыборка необходимых признаков\n",
        "train = train[cols_subset]\n",
        "test = test[cols_subset]"
      ]
    },
    {
      "cell_type": "markdown",
      "metadata": {
        "id": "xQwPNiHc0ey5"
      },
      "source": [
        "### Задание 1 (0.5 балла)\n",
        "\n",
        "Посмотрите на пропуски и дубли в данных train и test. Есть ли они? Если есть, напишите, с чем это может быть связано? Если нет, то просто напишите, что пропусков и/или дублей нет."
      ]
    },
    {
      "cell_type": "code",
      "execution_count": null,
      "metadata": {
        "id": "LqC89qT60ey5"
      },
      "outputs": [],
      "source": [
        "# Проверяем датасеты на наличие дубликатов и пропусков\n",
        "print('Количество дубликатов в train датасете:', train.duplicated().sum())\n",
        "print('Есть ли в train датасете пропуски?', np.any(train.isna().values))\n",
        "print('Количество дубликатов в test датасете:', test.duplicated().sum())\n",
        "print('Есть ли в test датасете пропуски?', np.any(test.isna().values))\n",
        "\n",
        "# Дубликатов и пропусков в датасетах нет"
      ]
    },
    {
      "cell_type": "markdown",
      "metadata": {
        "id": "s82_fdhg0ey5"
      },
      "source": [
        "### Задание 2 (0.5 балла)\n",
        "\n",
        "Выведите основные статистики данных: среднее, медиана, перцентили (0.25, 0.5, 0.75), минимум, максимум, стандартное отклонение. Посмотрите на таблицу и напишите, видите ли вы в ней что-нибудь интересное."
      ]
    },
    {
      "cell_type": "code",
      "execution_count": null,
      "metadata": {
        "id": "jGupq87W0ey5"
      },
      "outputs": [],
      "source": [
        "# Значения данных таблицы train\n",
        "train_statistics = train.describe()[1:]\n",
        "train_median = train.median(numeric_only=True)\n",
        "train_statistics = pd.concat([train_statistics, train_median.to_frame(name='median').T])\n",
        "train_statistics\n",
        "\n",
        "# Все значения находятся в диапазоне от -1 до 1, можно сделать выводы, что данные масштабированы"
      ]
    },
    {
      "cell_type": "code",
      "source": [
        "# Значения данных таблицы test\n",
        "test_statistics = test.describe()[1:]\n",
        "test_median = test.median(numeric_only=True)\n",
        "test_statistics = pd.concat([test_statistics, test_median.to_frame(name='median').T])\n",
        "test_statistics\n",
        "\n",
        "# Все значения находятся в диапазоне от -1 до 1, можно сделать выводы, что данные масштабированы"
      ],
      "metadata": {
        "id": "8JmCHx4XaM1v"
      },
      "execution_count": null,
      "outputs": []
    },
    {
      "cell_type": "markdown",
      "metadata": {
        "id": "VkhAEHQo0ey5"
      },
      "source": [
        "### Задание 3 (0.5 балла)\n",
        "\n",
        "Данные сбалансированы? У вас есть 6 категорий активности (целевая переменная). Если одна из категорий представлена большим количеством наблюдений, а остальные - нет, то это обстоятельство, о котором хотелось бы знать заранее. Гиперболизированный пример: представьте, что у вас 1000 наблюдений, разделенных на два класса, и только 5 принадлежат ко второму классу. Как учить модель на такой выборке? Есть сильное подозрение, что многие модели будут склонны вырождаться в константу. Отсюда и необходимость проверять баланс классов.\n",
        "\n",
        "Выведите количество наблюдений для всех категорий активности в train и test. Посчитайте разницу в процентах между самой крупной категорией и самой маленькой (самая большая категория - это 100%). Если разница (округленная до ближайшего целого числа) не превышает 30%, то давайте для наших целей считать, что данные сбалансированы. Напишите, сбалансированы ли данные в train и test."
      ]
    },
    {
      "cell_type": "code",
      "execution_count": null,
      "metadata": {
        "id": "Yyg3clba0ey5"
      },
      "outputs": [],
      "source": [
        "# Находим разницу между самой крупной и самой маленькой категориями в train\n",
        "train_activity = train.Activity.value_counts()\n",
        "min_train_category = train_activity.min()\n",
        "max_train_category = train_activity.max()\n",
        "train_ans = int((max_train_category - min_train_category) / max_train_category * 100 + 0.5)\n",
        "print(f'Разница между самой крупной и самой маленькой категориями в train: {train_ans} %')\n",
        "\n",
        "# Итоговое значение в train '30 %', значит данные сбалансированы"
      ]
    },
    {
      "cell_type": "code",
      "source": [
        "# Находим разницу между самой крупной и самой маленькой категориями в test\n",
        "test_activity = test.Activity.value_counts()\n",
        "min_test_category = test_activity.min()\n",
        "max_test_category = test_activity.max()\n",
        "test_ans = int((max_test_category - min_test_category) / max_test_category * 100 + 0.5)\n",
        "print(f'Разница между самой крупной и самой маленькой категориями в test: {test_ans} %')\n",
        "\n",
        "# Итоговое значение в test '22 %', значит данные сбалансированы"
      ],
      "metadata": {
        "id": "bgbl4vxBBWUn"
      },
      "execution_count": null,
      "outputs": []
    },
    {
      "cell_type": "markdown",
      "metadata": {
        "id": "kxH4i4KI0ey5"
      },
      "source": [
        "### Задание 4 (0.5 балла)\n",
        "\n",
        "Посчитайте корреляции всех признаков (включая таргет) со всеми другими. Какими получились значения? Есть идеи, почему так? Напишите ваши мысли."
      ]
    },
    {
      "cell_type": "code",
      "source": [
        "# Кодируем target числами, для подсчета корреляции и считаем ее методом corr\n",
        "train_temp = train.copy()\n",
        "train_temp['target_in_nums'] = train_temp['Activity'].map(dict(zip(sorted(train_activity.index), range(6))))\n",
        "train_temp.corr(numeric_only=True)\n",
        "\n",
        "# Есть признаки, которые хорошо коррелируют между собой, в то время как, есть и признаки, которые плохо коррелируют между собой.\n",
        "# Это может быть связано с тем, что некоторые признаки имеют схожий смысл, а также, что определенные активности связаны с определенными признаками"
      ],
      "metadata": {
        "id": "mWVy_GRnCOoG"
      },
      "execution_count": null,
      "outputs": []
    },
    {
      "cell_type": "code",
      "source": [
        "# Кодируем target числами, для подсчета корреляции и считаем ее методом corr\n",
        "test_temp = test.copy()\n",
        "test_temp['target_in_nums'] = test_temp['Activity'].map(dict(zip(sorted(test_activity.index), range(6))))\n",
        "test_temp.corr(numeric_only=True)\n",
        "\n",
        "# Есть признаки, которые хорошо коррелируют между собой, в то время как, есть и признаки, которые плохо коррелируют между собой.\n",
        "# Это может быть связано с тем, что некоторые признаки имеют схожий смысл, а также, что определенные активности связаны с определенными признаками"
      ],
      "metadata": {
        "id": "fk0LrXmMaC4U"
      },
      "execution_count": null,
      "outputs": []
    },
    {
      "cell_type": "markdown",
      "metadata": {
        "id": "iwPqjf3C0ey6"
      },
      "source": [
        "Поздравляем! Вы предобработали данные для максимально комфортного их последующего анализа. Теперь вы готовы приступить к Exploratory Data Analysis!"
      ]
    },
    {
      "cell_type": "markdown",
      "metadata": {
        "id": "txez-VIa0ey6"
      },
      "source": [
        "## Exploratory Data Analysis"
      ]
    },
    {
      "cell_type": "markdown",
      "metadata": {
        "id": "8Dp2G0Zt0ey6"
      },
      "source": [
        "### Задание 5 (0.5 балла)\n",
        "\n",
        "Вы проверили основную информацию о данных и составили свое первое впечатление о них. Теперь визуализации.\n",
        "\n",
        "Начнем рисовать графики с небольшой разминки. Выберите две любые математические функции (отличные от линейной) и нарисуйте их на одном графике. Подпишите каждый из графиков, чтобы было понятно, какие функции вы выбрали. Ниже будет пример."
      ]
    },
    {
      "cell_type": "code",
      "execution_count": null,
      "metadata": {
        "id": "TMTBg0gK0ey6"
      },
      "outputs": [],
      "source": [
        "# Строим графики для функций y=cos(x) и y=-ln(x) с помощью lineplot\n",
        "PI = np.pi\n",
        "x = np.arange(-2 * PI, 2 * PI, 0.01)\n",
        "y_cos = pd.Series(np.cos(x))\n",
        "y_minus_ln = pd.Series(-np.log(x))\n",
        "sns.lineplot(x=x, y=y_cos, label='y=cos(x)')\n",
        "sns.lineplot(x=x, y=y_minus_ln, label='y=-ln(x)')\n",
        "x_labels = ['$-2\\pi$', '$-3\\pi/2$', '$-\\pi$', '$-\\pi/2$', '$0$', '$\\pi/2$', '$\\pi$', '$3\\pi/2$', '$2\\pi$']\n",
        "plt.xlabel('x')\n",
        "plt.ylabel('y')\n",
        "plt.xticks(ticks=np.linspace(-2 * np.pi, 2 * np.pi, 9), labels=x_labels)\n",
        "plt.axvline(x=0)\n",
        "plt.axhline(y=0)\n",
        "plt.grid(visible=True)\n",
        "plt.title('Math functions')\n",
        "plt.legend(loc='upper left')\n",
        "plt.show()\n"
      ]
    },
    {
      "cell_type": "markdown",
      "metadata": {
        "id": "YJrJRcRP0ey6"
      },
      "source": [
        "### Задание 6 (0.5 балла)\n",
        "\n",
        "Ранее мы уже проверили сбалансированность данных по разным категориям активностей в train и test сетах. Теперь визуализируйте количество сэмплов в каждой из категорий отдельно для train и test сетов, как в примере ниже. Проследите, чтобы порядок категорий слева и справа был одинаков. Иначе не очень удобно их сравнивать (когда они в разных местах двух графиков). Также заметьте, что в примере ось Х в одинаковом масштабе, что тоже удобно для сравнения.\n",
        "\n",
        "Вам может пригодиться:\n",
        "- plt.barh или ax.barh"
      ]
    },
    {
      "cell_type": "code",
      "execution_count": null,
      "metadata": {
        "id": "aB--le1j0ey6"
      },
      "outputs": [],
      "source": [
        "# Строим график с помощью barh для отображения количества значений различных активностей на обоих датасетах\n",
        "fig, (first, second) = plt.subplots(1, 2, figsize=(15, 5))\n",
        "fig.suptitle('Target variables distribution')\n",
        "first.barh(train_activity.index, width=train_activity[train_activity.index], color='blue')\n",
        "first.set_title('Train set')\n",
        "first.invert_xaxis()\n",
        "second.barh(train_activity.index, width=test_activity[train_activity.index], color='red')\n",
        "second.set_title('Test set')\n",
        "second.yaxis.tick_right()\n",
        "second.set_xlim(first.get_xlim()[::-1])\n",
        "fig.tight_layout()\n",
        "plt.show()"
      ]
    },
    {
      "cell_type": "markdown",
      "metadata": {
        "id": "IAXjmTIc0ey6"
      },
      "source": [
        "Правда на таких графиках проще проверять баланс классов таргета?)"
      ]
    },
    {
      "cell_type": "code",
      "source": [
        "# Да, данные графики более точно отображают баланс классов таргета"
      ],
      "metadata": {
        "id": "g4KPx1fi-pvX"
      },
      "execution_count": null,
      "outputs": []
    },
    {
      "cell_type": "markdown",
      "metadata": {
        "id": "NHQo9Us10ey6"
      },
      "source": [
        "### Задание 7 (0.5 балла)\n",
        "\n",
        "Ранее вы выводили таблицу корреляций. Однако просто таблица корреляций не очень удобна для анализа. Что, если признаков было бы больше? Визуализируйте heatmap корреляций. Подпишите значения корреляций, округленные до 2 знаков после запятой, на графике и оставьте только те значения, которые по модулю не меньше 0.5. Будем считать такие корреляции существенными. Если будете брать код из семинарского ноутбука, то поменяйте в нем что-нибудь, например, цветовую гамму, иначе проверяющий будет карать :)\n",
        "\n",
        "Какой признак стоит исключить из рассмотрения корреляций? Напишите его название, а также причину, почему нет смысла его рассматривать.\n",
        "\n",
        "Вам может пригодиться:\n",
        "- sns.heatmap\n",
        "- методы get_text и set_text у атрибута texts графика"
      ]
    },
    {
      "cell_type": "code",
      "execution_count": null,
      "metadata": {
        "id": "Ofo0ZtR30ey7"
      },
      "outputs": [],
      "source": [
        "# Выводим таблицу корреляций с помощью heatmap, используя датасет train\n",
        "plt.figure(figsize=(12, 8))\n",
        "table = sns.heatmap(train.corr(numeric_only=True), cmap=\"crest\", annot=True, fmt=\"0.2f\")\n",
        "for value in table.texts:\n",
        "  if float(value.get_text()) >= 0.5 or float(value.get_text()) <= -0.5: value.set_text(value.get_text())\n",
        "  else: value.set_text(\"\")\n",
        "plt.title(\"Correlation heatmap\")\n",
        "plt.show()\n",
        "\n",
        "# Из рассмотрения стоит исключить признак subject, так как его значения никак не коррелируют с остальными признаками,\n",
        "# ведь номер испытуемого никак не зависит от других признаков и не связан с ними"
      ]
    },
    {
      "cell_type": "markdown",
      "metadata": {
        "id": "3jWdUKzb0ey7"
      },
      "source": [
        "### Задание 8 (0.5 балла)\n",
        "\n",
        "Для начала будем стрелять из пушки по воробьям. Выведите pairplot по всем данным train сета. Напишите, заметили ли вы в нем что-нибудь интересное, чего не было в таблицах и графиках ранее, а также сообщите, было ли вам удобно анализировать 100 графиков."
      ]
    },
    {
      "cell_type": "code",
      "execution_count": null,
      "metadata": {
        "id": "g10fPp_t0ey7"
      },
      "outputs": [],
      "source": [
        "# Построим pairplot по всем данным датасета train\n",
        "sns.pairplot(train);\n",
        "\n",
        "# Лишь на некоторых графиках можно увидеть, что определенные признаки хорошо коррелируют, однако анализировать 100 графиков очень неудобно"
      ]
    },
    {
      "cell_type": "markdown",
      "metadata": {
        "id": "a4R_r4Dt0ey7"
      },
      "source": [
        "### Задание 9 (1 балл)\n",
        "\n",
        "Окей. Смотреть на все сразу не очень удобно. Кажется, нужно смотреть на признаки в отдельности и искать в них инсайты.\n",
        "\n",
        "Попробуем проверить гипотезу. Отобразите плотность распределения (kde) `tBodyAccMag-mean()` для каждой из активностей, как в примере ниже. Видите закономерность? Можно ли поделить все активности на две группы? Если да, то проведите вертикальную линию, которая визуально неплохо разделяет эти группы.\n",
        "\n",
        "Давайте первую группу называть статическими активностями, а вторую - динамическими.\n",
        "\n",
        "Посчитайте, какую долю правильных ответов дает ваша вертикальная линия для разделения именно этих двух групп. С чем может быть связан полученный вами результат? Предположите логическое обоснование (почему именно данный признак так хорошо/плохо разделяет группы активностей).\n",
        "\n",
        "Вам может пригодиться:\n",
        "- sns.kdeplot"
      ]
    },
    {
      "cell_type": "code",
      "execution_count": null,
      "metadata": {
        "id": "rNY0S3DB0ey7"
      },
      "outputs": [],
      "source": [
        "# Строим график плотности распределения усредненной величины ускорения для разных активностей датасета train с помощью kdeplot\n",
        "attribute = 'tBodyAccMag-mean()'\n",
        "plt.figure(figsize=(15, 5))\n",
        "sns.kdeplot(train, hue='Activity', x =attribute, palette='dark')\n",
        "plt.title('Mean body acceleration for activities')\n",
        "plt.xlabel('Body acceleration')\n",
        "plt.ylabel('Density')\n",
        "plt.legend(title='Activities', labels=['WALKING_UPSTAIRS', 'WALKING_DOWNSTAIRS', 'WALKING', 'LAYING', 'SITTING', 'STAYING'])\n",
        "plt.axvline(x=-0.5)\n",
        "plt.show()\n",
        "\n",
        "# Можно увидеть закономерность, что все виды активностей поделились на 2 группы,\n",
        "# слева от вертикальной прямой - статические, а справа от нее - динамические"
      ]
    },
    {
      "cell_type": "code",
      "source": [
        "# Разделим активности на две группы, и для всех результатов подсчитаем корректность ответа\n",
        "static_activities = ['STANDING', 'SITTING', 'LAYING']\n",
        "dynamic_activities = ['WALKING', 'WALKING_DOWNSTAIRS', 'WALKING_UPSTAIRS']\n",
        "static_true_results = ((train[attribute] <= -0.5) & (train['Activity'].isin(static_activities))).sum()\n",
        "dynamic_true_results = ((train[attribute] > -0.5) & (train['Activity'].isin(dynamic_activities))).sum()\n",
        "true_results = static_true_results + dynamic_true_results\n",
        "results = train.shape[0]\n",
        "ans = true_results / results\n",
        "print('Доля правильных ответов:', ans)\n",
        "\n",
        "# Доля правильных ответов оказалась очень высокой, полученный результат связан с тем, что данный признак очень сильно отличается\n",
        "# в группе статических активностей и в группе динамических активностей. Это вызвано тем, что в статических активностях ускорение\n",
        "# практически неизменно, в то время как у динамических активностей, оно меняется очень сильно и принимает другие значения"
      ],
      "metadata": {
        "id": "jnpNDqMtuQnN"
      },
      "execution_count": null,
      "outputs": []
    },
    {
      "cell_type": "markdown",
      "metadata": {
        "id": "BlC3ktRB0ey7"
      },
      "source": [
        "### Задание 10 (0.5 балла)\n",
        "\n",
        "Поздравляем, вы проверили первую гипотезу в процессе EDA. Однако нам бы хотелось уметь не группы разделять, а каждый отдельный вид активности. Попробуйте нарисовать \"ящики с усами\" для `angle(X,gravityMean)` с разделением по разным видам активности на данных train. Можно ли сделать какой-то вывод по полученной визуализации? Проанализируйте и проинтерпретируйте полученные картинки (если заметили какую-то особенность, может какая-то категория значительно выделяется, то предположите, почему так могло произойти).\n",
        "\n",
        "Вам может пригодиться:\n",
        "- sns.boxplot"
      ]
    },
    {
      "cell_type": "code",
      "execution_count": null,
      "metadata": {
        "id": "HOKGqy-90ey7"
      },
      "outputs": [],
      "source": [
        "# Строим \"ящики с усами\" для angle(X,gravityMean) на видах активностей датасета train с помощью boxplot\n",
        "attribute = 'angle(X,gravityMean)'\n",
        "plt.figure(figsize=(15, 5))\n",
        "sns.boxplot(train, x='Activity', y=attribute, palette='magma')\n",
        "plt.title('Angle between X-axis and gravitiational acceleration')\n",
        "plt.xlabel('Activity')\n",
        "plt.ylabel('Angel')\n",
        "plt.show()\n",
        "\n",
        "# Из полученной визуализации можно сделать вывод, что значения для всех активностей кроме LAYING лежат примерно в одном диапазоне, однако LAYING\n",
        "# значительно выделяется на их фоне. Это может быть связано с тем, что именно, когда человек лежит,\n",
        "# то  угол между осью X и усредненной гравитационной составляющей ускорения принимает наибольшее значение, ведь во время других активностей\n",
        "# человек находится в другом положении относительно оси X, нежели во время лежания"
      ]
    },
    {
      "cell_type": "markdown",
      "metadata": {
        "id": "7eIvuQ0d0ey8"
      },
      "source": [
        "### Задание 11 (0.5 балла)\n",
        "\n",
        "Посмотрим теперь на `tBodyAcc-max()-X`. Визуализируйте скрипичные диаграммы для этого признака с разделением по активностям на всем train. Кажется логичным, что максимальное ускорение в моменте для разных активностей будет различаться. Однако есть ли активность, которая будет выделяться? Если да, то предложите объяснение, почему эта активность выделяется.\n",
        "\n",
        "Вам может пригодиться:\n",
        "- sns.violinplot"
      ]
    },
    {
      "cell_type": "code",
      "execution_count": null,
      "metadata": {
        "id": "Bc0YZVM20ey8"
      },
      "outputs": [],
      "source": [
        "# Строим график для tBodyAcc-max()-X с разделением по активностям датасета train, используя violinplot\n",
        "attribute = 'tBodyAcc-max()-X'\n",
        "plt.figure(figsize=(15, 5))\n",
        "sns.violinplot(data=train, y=attribute, x ='Activity', palette='magma', split=True)\n",
        "plt.title('Maximal body acceleration over activities')\n",
        "plt.xlabel('Activity')\n",
        "plt.ylabel('Maximal acceleration')\n",
        "plt.show()\n",
        "\n",
        "# Можно заметить, что выделяется такая активность, как WALKING_DOWNSTAIRS. Она принимает максимальные значения,\n",
        "# это может быть связано с тем, что при спуске человек набирает дополнительное ускорение, тем самым достигая более высокого\n",
        "# максимального значения, в отличие от статических активностей, где максимальное ускорение максимально и других динамических активностей,\n",
        "# где максимальное ускорение немного меньше"
      ]
    },
    {
      "cell_type": "markdown",
      "metadata": {
        "id": "J2-dYVCU0ey8"
      },
      "source": [
        "### Задание 12 (1 балл)\n",
        "\n",
        "Вы уже можете с довольно хорошим качеством выделить две категории активности из шести. Продолжим.\n",
        "\n",
        "Ранее уже упоминалось разделение на две группы активностей: статические и динамические. Пришла пора разделить датасет train на две части. Сделайте это! Теперь на одной картинке покажите распределения `fBodyAcc-bandsEnergy()-1,8.2` для динамичных активностей (boxenplot - немного измененый \"ящик с усами\") и `angle(Y,gravityMean)` для статических - тут хватит и простой гистограммы (прямо, как в примере ниже). Можно ли выделить еще какие-то активности? Если да, напишите, какие активности на 1 и 2 графиках выделяются.\n",
        "\n",
        "Вам может пригодиться:\n",
        "- plt.subplots или matplotlib.gridspec (заметили, что один график больше другого? попробуйте сами так сделать - вам понравится...)\n",
        "- sns.boxenplot\n",
        "- sns.histplot"
      ]
    },
    {
      "cell_type": "code",
      "execution_count": null,
      "metadata": {
        "id": "JcdmkGEm0ey8"
      },
      "outputs": [],
      "source": [
        "# Разделяем датасет на две части в зависимости от группы активностей датасета train и рисуем график распределения\n",
        "# fBodyAcc-bandsEnergy()-1,8.2 для динамичных активностей c помощью boxenplot и angle(Y,gravityMean) для статических с помощью histplot\n",
        "train_static = train[train['Activity'].isin(static_activities)]\n",
        "train_dynamic = train[train['Activity'].isin(dynamic_activities)]\n",
        "\n",
        "attribute1, attribute2 = 'fBodyAcc-bandsEnergy()-1,8.2', 'angle(Y,gravityMean)'\n",
        "fig, (first, second) = plt.subplots(1, 2, figsize=(15, 5), gridspec_kw={'width_ratios': {8, 5}})\n",
        "fig.suptitle('Angel and Energy for activity groups')\n",
        "sns.boxenplot(data=train_dynamic, ax=first, x='Activity', y=attribute1)\n",
        "first.set_title('Dynamic activities')\n",
        "first.set_ylabel('Frequency energy')\n",
        "sns.histplot(data=train_static, ax=second, hue='Activity', x=attribute2, bins=70)\n",
        "second.set_title('Static activities')\n",
        "second.set_xlabel('Angel')\n",
        "plt.show()\n",
        "\n",
        "# На первом графике среди динамических активностей выделяется WALKING_UPSTAIRS, так как большинство ее даже минимальных значений\n",
        "# превосходят значения двух других активностей. На втором графике, среди статических активностей выделяется STANDING, так как\n",
        "# его значения сосредоточены лишь на небольшом промежутке"
      ]
    },
    {
      "cell_type": "markdown",
      "metadata": {
        "id": "_d-mHWfg0ey9"
      },
      "source": [
        "### Задание 13 (0.5 балла)\n",
        "\n",
        "Не всегда жизнь будет такой легкой, а данные будут полностью или почти линейно разделимы в одному признаку (иначе чем бы занимались дата саентисты...). Часто данные вообще ни по одному признаку нельзя адекватно разделить (да и по комбинациям признаков тоже). Давайте попробуем взять не один признак, а целых два!\n",
        "\n",
        "Рассмотрим только статические активности. Будет снова два графика сразу. На первом графике будет боксплот распределения `fBodyAcc-skewness()-X` по активностям. А на втором попробуем взять не все наблюдения данной группы активностей, а только их часть. Разделимы ли категории по `fBodyAcc-skewness()-X`? А если взять только те строки, где `fBodyAcc-skewness()-X < -0.376`, и теперь вывести боксплот распределения `angle(Y,gravityMean)` по разным активностям? Попробуйте и напишите, выделилась ли какая-то категория?\n",
        "\n",
        "Вам может пригодиться:\n",
        "- plt.subplots или matplotlib.gridspec\n",
        "- sns.boxplot"
      ]
    },
    {
      "cell_type": "code",
      "execution_count": null,
      "metadata": {
        "id": "N3Rsjs0z0ey9"
      },
      "outputs": [],
      "source": [
        "# Строим график распределения fBodyAcc-skewness()-X по статическим активностям датасета train с помощью boxplot\n",
        "# и график распределения angle(Y,gravityMean) для строк, где fBodyAcc-skewness()-X < -0.376\n",
        "# у статичесикх активностей с помощью boxplot\n",
        "attribute1, attribute2 = 'fBodyAcc-skewness()-X', 'angle(Y,gravityMean)'\n",
        "train_static_with_cond = train_static[train_static[attribute1] < -0.376]\n",
        "\n",
        "fig, (first, second) = plt.subplots(1, 2, figsize=(15, 5))\n",
        "fig.suptitle('Acceleration and Angle over static activities')\n",
        "sns.boxplot(data=train_static, ax=first, x='Activity', y=attribute1, palette='magma')\n",
        "first.set_title('Skewness of body acceleration over activities')\n",
        "first.set_ylabel('Skewness')\n",
        "sns.boxplot(data=train_static_with_cond, ax=second, x='Activity', y=attribute2, palette='dark')\n",
        "second.set_title('Angle between Y-axis and gravity accleration over activities')\n",
        "second.set_ylabel('Angle')\n",
        "plt.show()\n",
        "\n",
        "# На первом графике нельзя разделить активности друг друга, однако используя второй график это можно сделать достаточно легко.\n",
        "# Можно выделить такую активность как SITTING, ее значения находятся в диапазоне, на который не попадают никаких другие активности"
      ]
    },
    {
      "cell_type": "markdown",
      "metadata": {
        "id": "0HwRpCsf0ey9"
      },
      "source": [
        "Поздравляем, теперь вы на шажок ближе к тому, чтобы стать решающим деревом!"
      ]
    },
    {
      "cell_type": "markdown",
      "metadata": {
        "id": "OpjDYaKK0ey9"
      },
      "source": [
        "### Задание 14 (1 балл)\n",
        "\n",
        "Вот и осталась лишь одна активность, которую мы никак не выделили. Попробуем и ее какими-то порогами отделить от всех остальных. Да, можно было бы сказать, что, раз уж мы выделили 5 из 6 категорий, то все остальное - это и есть последняя категория, но мы не идем легкими путями. Выделить оставшуюсь категорию с хорошим качеством не так уж и просто. Из доступных признаков, сначала посмотрите на распределение `tBodyAcc-max()-X` на динамических активностях (скрипичная диаграмма отлично подойдет).\n",
        "\n",
        "А теперь спускаем вам порог `tBodyAcc-max()-X < 0.157`. Для таких строк постройте диаграмму рассеяния для признака `tGravityAcc-min()-X`. Да, получается неидеально, но это честная работа. Можно выбрать порог так, чтобы чисто из таблицы с динамическими активностями из строк, где `tBodyAcc-max()-X < 0.157`, выбрать по некоторому порогу для `tGravityAcc-min()-X` строки так, чтобы доля правильных ответов на оставшейся категории была не меньше 83%!\n",
        "\n",
        "Вам может пригодиться:\n",
        "- plt.subplots или matplotlib.gridspec\n",
        "- sns.violinplot\n",
        "- sns.swarmplot (иногда лучше подходит, чем просто sns.scatterplot)\n",
        "\n",
        "Обратите внимание, что подписи к осям можно убирать методами plt. Например, если у вас общее название для оси Y для обоих графиков, то можно не подписывать ось Y у второго графика."
      ]
    },
    {
      "cell_type": "code",
      "execution_count": null,
      "metadata": {
        "id": "loELLtp60ey9"
      },
      "outputs": [],
      "source": [
        "# Строим график распределения tBodyAcc-max()-X по динамическим активностям датасета train с помощью violinplot\n",
        "# и график распределения tGravityAcc-min()-X для строк, где tBodyAcc-max()-X < 0.157\n",
        "# у динамических активностей с помощью swarmplot\n",
        "attribute1, attribute2 = 'tBodyAcc-max()-X', 'tGravityAcc-min()-X'\n",
        "train_dynamic_with_cond = train_dynamic[train_dynamic[attribute1] < 0.157]\n",
        "\n",
        "fig, (first, second) = plt.subplots(1, 2, figsize=(15, 5))\n",
        "fig.suptitle('Body and Gravity acceleration over dynamic activities')\n",
        "fig.supylabel('Acceleration')\n",
        "sns.violinplot(data=train_dynamic, ax=first, x='Activity', y=attribute1, palette='bright')\n",
        "first.set_title('Maximal body acceleration over activities')\n",
        "first.set_ylabel(\"\")\n",
        "sns.swarmplot(data=train_dynamic_with_cond, ax=second, x='Activity', y=attribute2, palette='magma')\n",
        "second.set_title('Minimal gravity acceleration over activities')\n",
        "second.set_ylabel(\"\")\n",
        "fig.tight_layout()\n",
        "plt.show()\n",
        "\n",
        "# На данных графиках достаточно тяжело выделить какой-либо признак, однако можно заметить, что только WALKING\n",
        "# на правом графике принимает значения выше 0.97 и почти все значения выше 0.95 тоже относятся к этой категории"
      ]
    },
    {
      "cell_type": "markdown",
      "metadata": {
        "id": "45kuxA5I0ey-"
      },
      "source": [
        "### Задание 15 (0.5 балла)\n",
        "\n",
        "Теперь попробуем более интерактивные графики. Установите библиотеку `plotly` (обычно `pip install plotly` или `conda install plotly`). Синтаксис очень похож на `seaborn`, но вот [документация для plotly.express](https://plotly.com/python-api-reference/plotly.express.html).\n",
        "\n",
        "Сначала подготовим данные для визуализации. Будем считать t-SNE просто \"черным ящиком\", который принимает наши данные и проецирует их в двумерное или трехмерное пространство. Возможно, придется немного подождать."
      ]
    },
    {
      "cell_type": "code",
      "source": [
        "# Устанавливаем библиотеку plotly\n",
        "!pip install plotly"
      ],
      "metadata": {
        "id": "1EjjfgGe9LV5"
      },
      "execution_count": null,
      "outputs": []
    },
    {
      "cell_type": "code",
      "source": [
        "# Импортируем модуль express библиотеки plotly\n",
        "import plotly.express as px"
      ],
      "metadata": {
        "id": "E1JoFABT4M92"
      },
      "execution_count": null,
      "outputs": []
    },
    {
      "cell_type": "code",
      "execution_count": null,
      "metadata": {
        "id": "mQeGaWEl0ey-"
      },
      "outputs": [],
      "source": [
        "%%time\n",
        "from sklearn.manifold import TSNE\n",
        "tsne = TSNE(random_state=666, n_components=2)\n",
        "new = tsne.fit_transform(train.drop(['subject', 'Activity'], axis=1))\n",
        "df_2_comp = pd.concat([\n",
        "    pd.DataFrame(new, columns=['x', 'y']),\n",
        "    train['Activity']\n",
        "], axis=1)\n",
        "\n",
        "tsne = TSNE(random_state=666, n_components=3)\n",
        "new = tsne.fit_transform(train.drop(['subject', 'Activity'], axis=1))\n",
        "df_3_comp = pd.concat([\n",
        "    pd.DataFrame(new, columns=['x', 'y', 'z']),\n",
        "    train['Activity']\n",
        "], axis=1)"
      ]
    },
    {
      "cell_type": "markdown",
      "metadata": {
        "id": "S-ohwd8T0ey-"
      },
      "source": [
        "Теперь нарисуйте scatter-график через `plotly.express` для `df_2_comp` с выделением цветами активностей. Красиво получилось? Видны скопления точек одного цвета? Можно разные активности отделить линиями на данном графике?"
      ]
    },
    {
      "cell_type": "code",
      "execution_count": null,
      "metadata": {
        "id": "xfODpwDj0ey-"
      },
      "outputs": [],
      "source": [
        "# Строим scatter-график для df_2_comp с выделением цветами активностей\n",
        "px.scatter(df_2_comp, x='x', y='y', color='Activity')\n",
        "\n",
        "# Получилось достаточно красиво, ведь хорошо видны скопления точек одного цвета. Некоторые группы легко можно отделить линиями на графике,\n",
        "# например, LAYING находится в отдалении от всех остальных, SITTING и STANDING можно постараться разделить линией, однако получится не идеально"
      ]
    },
    {
      "cell_type": "markdown",
      "metadata": {
        "id": "OIyYWH570ey-"
      },
      "source": [
        "Мы не отстаем от трендов и тоже можем в 3D. Сейчас и вы научитесь (если еще не умеете). Нарисуйте scatter_3d-график через `plotly.express` для `df_3_comp` с выделением цветами активностей. Повращайте его. Нормально получилось? Есть ли какая-то структура у точек?"
      ]
    },
    {
      "cell_type": "code",
      "execution_count": null,
      "metadata": {
        "id": "V0rvK2Pt0ey-"
      },
      "outputs": [],
      "source": [
        "# Строим scatter-график для df_2_comp с выделением цветами активностей\n",
        "px.scatter_3d(df_3_comp, x='x', y='y', z='z', color='Activity')\n",
        "\n",
        "# Получилось красиво, несмотря на то, что точек много и они находятся близко друг к другу. Точки разных категорий находятся близко друг к другу\n",
        "# и для каждой категории можно нарисовать окружность, покрывающую всю активность"
      ]
    },
    {
      "cell_type": "markdown",
      "metadata": {
        "id": "f8eU5ELK0ey-"
      },
      "source": [
        "### Задание 16 (1 балл)\n",
        "\n",
        "Мы сделали вам fit. Ваша очередь сделать predict. Допишите функцию, которая принимает на вход датафрейм с признаками, а выдает вектор из предсказаний - для каждой строки датафрейма вы определяете, к какому классу принадлежит объект. Рекомендуем сразу записывать из строками, а не кодировать в числа. Дальше фукнция `accuracy_score` выдаст вам долю правильных ответов.\n",
        "\n",
        "Подсказка: вы уже отделили категории друг от друга по каким-то признакам. Воспользуйтесь этим знанием! Используя только проведенный вами анализ можно спокойно выбить не менее 75% на train и test! Если вы получите меньше 75%, то балл будет снижен. Авторское решение (на основе всех графиков выше) выбивает 81% и 77% на train и test соответственно. [Шапргалка с готовыми идеями для такой задачи](https://www.youtube.com/watch?v=dQw4w9WgXcQ)"
      ]
    },
    {
      "cell_type": "code",
      "execution_count": null,
      "metadata": {
        "id": "nV_6tl2c0ey_"
      },
      "outputs": [],
      "source": [
        "# Заводим массив с предсказаниями и в зависимости от значений различных признаков, выбираем категорию активности, которую помещаем в массив ответов\n",
        "def predict(df: pd.DataFrame):\n",
        "    ans = []\n",
        "    for row_number, row in df.iterrows():\n",
        "\n",
        "      # статические активности\n",
        "      if(row['tBodyAccMag-mean()'] < -0.5):\n",
        "        if(row['angle(X,gravityMean)'] > 0.1):\n",
        "          ans.append('LAYING')\n",
        "        elif(row['angle(Y,gravityMean)'] > -0.35 and row['angle(Y,gravityMean)'] < 0.1):\n",
        "          ans.append('SITTING')\n",
        "        elif(row['angle(Y,gravityMean)'] > 0.13):\n",
        "          ans.append('STANDING')\n",
        "        else:\n",
        "          ans.append('SITTING')\n",
        "\n",
        "      # динамические активности\n",
        "      else:\n",
        "        if(row['tGravityAcc-min()-X'] < 0.8 or row['fBodyAcc-bandsEnergy()-1,8.2'] > 0.3):\n",
        "          ans.append('WALKING_UPSTAIRS')\n",
        "        elif(row['tBodyAcc-max()-X'] > 0.22):\n",
        "          ans.append('WALKING_DOWNSTAIRS')\n",
        "        elif(row['fBodyAcc-skewness()-X'] < -0.1 or row['tBodyAcc-max()-X'] < -0.41):\n",
        "          ans.append('WALKING')\n",
        "        else:\n",
        "          ans.append('WALKING_UPSTAIRS')\n",
        "\n",
        "    return ans\n",
        "\n",
        "def accuracy_score(y_true, y_pred) -> float:\n",
        "    y_true = np.asarray(y_true).reshape(-1, 1)\n",
        "    y_pred = np.asarray(y_pred).reshape(-1, 1)\n",
        "    return (y_true == y_pred).mean()"
      ]
    },
    {
      "cell_type": "code",
      "execution_count": null,
      "metadata": {
        "id": "BEQPL7TA0ey_",
        "collapsed": true
      },
      "outputs": [],
      "source": [
        "train_preds = predict(train)\n",
        "test_preds = predict(test)\n",
        "print(f\"Accuracy on train set => {accuracy_score(train['Activity'], train_preds)}\")\n",
        "print(f\"Accuracy on test set => {accuracy_score(test['Activity'], test_preds)}\")\n",
        "\n",
        "# Итоговые значения на train = 81% и на test = 77% что больше 75%"
      ]
    },
    {
      "cell_type": "markdown",
      "metadata": {
        "id": "MU0kHI3G0ey_"
      },
      "source": [
        "__Место для мема и/или фидбэка__"
      ]
    },
    {
      "cell_type": "markdown",
      "metadata": {
        "id": "iWVwAsxm0ey_"
      },
      "source": []
    }
  ],
  "metadata": {
    "colab": {
      "provenance": []
    },
    "kernelspec": {
      "display_name": "Python 3 (ipykernel)",
      "language": "python",
      "name": "python3"
    },
    "language_info": {
      "codemirror_mode": {
        "name": "ipython",
        "version": 3
      },
      "file_extension": ".py",
      "mimetype": "text/x-python",
      "name": "python",
      "nbconvert_exporter": "python",
      "pygments_lexer": "ipython3",
      "version": "3.9.18"
    }
  },
  "nbformat": 4,
  "nbformat_minor": 0
}